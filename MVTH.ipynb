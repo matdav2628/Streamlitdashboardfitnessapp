{
 "cells": [
  {
   "cell_type": "markdown",
   "metadata": {},
   "source": [
    "# Moveworks Take Home Assignment "
   ]
  },
  {
   "cell_type": "code",
   "execution_count": 1,
   "metadata": {},
   "outputs": [],
   "source": [
    "#Importation of the necessary libraries\n",
    "import pandas as pd\n",
    "#import streamlit as st\n",
    "from datetime import timedelta\n",
    "import datetime\n",
    "#import plotly_express as px"
   ]
  },
  {
   "cell_type": "code",
   "execution_count": 2,
   "metadata": {},
   "outputs": [
    {
     "ename": "FileNotFoundError",
     "evalue": "[Errno 2] File b'dashboard_tha_file1_shared.csv' does not exist: b'dashboard_tha_file1_shared.csv'",
     "output_type": "error",
     "traceback": [
      "\u001b[0;31m---------------------------------------------------------------------------\u001b[0m",
      "\u001b[0;31mFileNotFoundError\u001b[0m                         Traceback (most recent call last)",
      "\u001b[0;32m<ipython-input-2-327d848e1928>\u001b[0m in \u001b[0;36m<module>\u001b[0;34m\u001b[0m\n\u001b[0;32m----> 1\u001b[0;31m \u001b[0mdf_f1\u001b[0m \u001b[0;34m=\u001b[0m \u001b[0mpd\u001b[0m\u001b[0;34m.\u001b[0m\u001b[0mread_csv\u001b[0m\u001b[0;34m(\u001b[0m\u001b[0;34m'dashboard_tha_file1_shared.csv'\u001b[0m\u001b[0;34m)\u001b[0m\u001b[0;34m\u001b[0m\u001b[0;34m\u001b[0m\u001b[0m\n\u001b[0m\u001b[1;32m      2\u001b[0m \u001b[0;34m\u001b[0m\u001b[0m\n\u001b[1;32m      3\u001b[0m \u001b[0mdf_f2\u001b[0m \u001b[0;34m=\u001b[0m \u001b[0mpd\u001b[0m\u001b[0;34m.\u001b[0m\u001b[0mread_csv\u001b[0m\u001b[0;34m(\u001b[0m\u001b[0;34m'dashboard_tha_file2_shared.csv'\u001b[0m\u001b[0;34m)\u001b[0m\u001b[0;34m\u001b[0m\u001b[0;34m\u001b[0m\u001b[0m\n",
      "\u001b[0;32m~/opt/anaconda3/lib/python3.7/site-packages/pandas/io/parsers.py\u001b[0m in \u001b[0;36mparser_f\u001b[0;34m(filepath_or_buffer, sep, delimiter, header, names, index_col, usecols, squeeze, prefix, mangle_dupe_cols, dtype, engine, converters, true_values, false_values, skipinitialspace, skiprows, skipfooter, nrows, na_values, keep_default_na, na_filter, verbose, skip_blank_lines, parse_dates, infer_datetime_format, keep_date_col, date_parser, dayfirst, cache_dates, iterator, chunksize, compression, thousands, decimal, lineterminator, quotechar, quoting, doublequote, escapechar, comment, encoding, dialect, error_bad_lines, warn_bad_lines, delim_whitespace, low_memory, memory_map, float_precision)\u001b[0m\n\u001b[1;32m    683\u001b[0m         )\n\u001b[1;32m    684\u001b[0m \u001b[0;34m\u001b[0m\u001b[0m\n\u001b[0;32m--> 685\u001b[0;31m         \u001b[0;32mreturn\u001b[0m \u001b[0m_read\u001b[0m\u001b[0;34m(\u001b[0m\u001b[0mfilepath_or_buffer\u001b[0m\u001b[0;34m,\u001b[0m \u001b[0mkwds\u001b[0m\u001b[0;34m)\u001b[0m\u001b[0;34m\u001b[0m\u001b[0;34m\u001b[0m\u001b[0m\n\u001b[0m\u001b[1;32m    686\u001b[0m \u001b[0;34m\u001b[0m\u001b[0m\n\u001b[1;32m    687\u001b[0m     \u001b[0mparser_f\u001b[0m\u001b[0;34m.\u001b[0m\u001b[0m__name__\u001b[0m \u001b[0;34m=\u001b[0m \u001b[0mname\u001b[0m\u001b[0;34m\u001b[0m\u001b[0;34m\u001b[0m\u001b[0m\n",
      "\u001b[0;32m~/opt/anaconda3/lib/python3.7/site-packages/pandas/io/parsers.py\u001b[0m in \u001b[0;36m_read\u001b[0;34m(filepath_or_buffer, kwds)\u001b[0m\n\u001b[1;32m    455\u001b[0m \u001b[0;34m\u001b[0m\u001b[0m\n\u001b[1;32m    456\u001b[0m     \u001b[0;31m# Create the parser.\u001b[0m\u001b[0;34m\u001b[0m\u001b[0;34m\u001b[0m\u001b[0;34m\u001b[0m\u001b[0m\n\u001b[0;32m--> 457\u001b[0;31m     \u001b[0mparser\u001b[0m \u001b[0;34m=\u001b[0m \u001b[0mTextFileReader\u001b[0m\u001b[0;34m(\u001b[0m\u001b[0mfp_or_buf\u001b[0m\u001b[0;34m,\u001b[0m \u001b[0;34m**\u001b[0m\u001b[0mkwds\u001b[0m\u001b[0;34m)\u001b[0m\u001b[0;34m\u001b[0m\u001b[0;34m\u001b[0m\u001b[0m\n\u001b[0m\u001b[1;32m    458\u001b[0m \u001b[0;34m\u001b[0m\u001b[0m\n\u001b[1;32m    459\u001b[0m     \u001b[0;32mif\u001b[0m \u001b[0mchunksize\u001b[0m \u001b[0;32mor\u001b[0m \u001b[0miterator\u001b[0m\u001b[0;34m:\u001b[0m\u001b[0;34m\u001b[0m\u001b[0;34m\u001b[0m\u001b[0m\n",
      "\u001b[0;32m~/opt/anaconda3/lib/python3.7/site-packages/pandas/io/parsers.py\u001b[0m in \u001b[0;36m__init__\u001b[0;34m(self, f, engine, **kwds)\u001b[0m\n\u001b[1;32m    893\u001b[0m             \u001b[0mself\u001b[0m\u001b[0;34m.\u001b[0m\u001b[0moptions\u001b[0m\u001b[0;34m[\u001b[0m\u001b[0;34m\"has_index_names\"\u001b[0m\u001b[0;34m]\u001b[0m \u001b[0;34m=\u001b[0m \u001b[0mkwds\u001b[0m\u001b[0;34m[\u001b[0m\u001b[0;34m\"has_index_names\"\u001b[0m\u001b[0;34m]\u001b[0m\u001b[0;34m\u001b[0m\u001b[0;34m\u001b[0m\u001b[0m\n\u001b[1;32m    894\u001b[0m \u001b[0;34m\u001b[0m\u001b[0m\n\u001b[0;32m--> 895\u001b[0;31m         \u001b[0mself\u001b[0m\u001b[0;34m.\u001b[0m\u001b[0m_make_engine\u001b[0m\u001b[0;34m(\u001b[0m\u001b[0mself\u001b[0m\u001b[0;34m.\u001b[0m\u001b[0mengine\u001b[0m\u001b[0;34m)\u001b[0m\u001b[0;34m\u001b[0m\u001b[0;34m\u001b[0m\u001b[0m\n\u001b[0m\u001b[1;32m    896\u001b[0m \u001b[0;34m\u001b[0m\u001b[0m\n\u001b[1;32m    897\u001b[0m     \u001b[0;32mdef\u001b[0m \u001b[0mclose\u001b[0m\u001b[0;34m(\u001b[0m\u001b[0mself\u001b[0m\u001b[0;34m)\u001b[0m\u001b[0;34m:\u001b[0m\u001b[0;34m\u001b[0m\u001b[0;34m\u001b[0m\u001b[0m\n",
      "\u001b[0;32m~/opt/anaconda3/lib/python3.7/site-packages/pandas/io/parsers.py\u001b[0m in \u001b[0;36m_make_engine\u001b[0;34m(self, engine)\u001b[0m\n\u001b[1;32m   1133\u001b[0m     \u001b[0;32mdef\u001b[0m \u001b[0m_make_engine\u001b[0m\u001b[0;34m(\u001b[0m\u001b[0mself\u001b[0m\u001b[0;34m,\u001b[0m \u001b[0mengine\u001b[0m\u001b[0;34m=\u001b[0m\u001b[0;34m\"c\"\u001b[0m\u001b[0;34m)\u001b[0m\u001b[0;34m:\u001b[0m\u001b[0;34m\u001b[0m\u001b[0;34m\u001b[0m\u001b[0m\n\u001b[1;32m   1134\u001b[0m         \u001b[0;32mif\u001b[0m \u001b[0mengine\u001b[0m \u001b[0;34m==\u001b[0m \u001b[0;34m\"c\"\u001b[0m\u001b[0;34m:\u001b[0m\u001b[0;34m\u001b[0m\u001b[0;34m\u001b[0m\u001b[0m\n\u001b[0;32m-> 1135\u001b[0;31m             \u001b[0mself\u001b[0m\u001b[0;34m.\u001b[0m\u001b[0m_engine\u001b[0m \u001b[0;34m=\u001b[0m \u001b[0mCParserWrapper\u001b[0m\u001b[0;34m(\u001b[0m\u001b[0mself\u001b[0m\u001b[0;34m.\u001b[0m\u001b[0mf\u001b[0m\u001b[0;34m,\u001b[0m \u001b[0;34m**\u001b[0m\u001b[0mself\u001b[0m\u001b[0;34m.\u001b[0m\u001b[0moptions\u001b[0m\u001b[0;34m)\u001b[0m\u001b[0;34m\u001b[0m\u001b[0;34m\u001b[0m\u001b[0m\n\u001b[0m\u001b[1;32m   1136\u001b[0m         \u001b[0;32melse\u001b[0m\u001b[0;34m:\u001b[0m\u001b[0;34m\u001b[0m\u001b[0;34m\u001b[0m\u001b[0m\n\u001b[1;32m   1137\u001b[0m             \u001b[0;32mif\u001b[0m \u001b[0mengine\u001b[0m \u001b[0;34m==\u001b[0m \u001b[0;34m\"python\"\u001b[0m\u001b[0;34m:\u001b[0m\u001b[0;34m\u001b[0m\u001b[0;34m\u001b[0m\u001b[0m\n",
      "\u001b[0;32m~/opt/anaconda3/lib/python3.7/site-packages/pandas/io/parsers.py\u001b[0m in \u001b[0;36m__init__\u001b[0;34m(self, src, **kwds)\u001b[0m\n\u001b[1;32m   1915\u001b[0m         \u001b[0mkwds\u001b[0m\u001b[0;34m[\u001b[0m\u001b[0;34m\"usecols\"\u001b[0m\u001b[0;34m]\u001b[0m \u001b[0;34m=\u001b[0m \u001b[0mself\u001b[0m\u001b[0;34m.\u001b[0m\u001b[0musecols\u001b[0m\u001b[0;34m\u001b[0m\u001b[0;34m\u001b[0m\u001b[0m\n\u001b[1;32m   1916\u001b[0m \u001b[0;34m\u001b[0m\u001b[0m\n\u001b[0;32m-> 1917\u001b[0;31m         \u001b[0mself\u001b[0m\u001b[0;34m.\u001b[0m\u001b[0m_reader\u001b[0m \u001b[0;34m=\u001b[0m \u001b[0mparsers\u001b[0m\u001b[0;34m.\u001b[0m\u001b[0mTextReader\u001b[0m\u001b[0;34m(\u001b[0m\u001b[0msrc\u001b[0m\u001b[0;34m,\u001b[0m \u001b[0;34m**\u001b[0m\u001b[0mkwds\u001b[0m\u001b[0;34m)\u001b[0m\u001b[0;34m\u001b[0m\u001b[0;34m\u001b[0m\u001b[0m\n\u001b[0m\u001b[1;32m   1918\u001b[0m         \u001b[0mself\u001b[0m\u001b[0;34m.\u001b[0m\u001b[0munnamed_cols\u001b[0m \u001b[0;34m=\u001b[0m \u001b[0mself\u001b[0m\u001b[0;34m.\u001b[0m\u001b[0m_reader\u001b[0m\u001b[0;34m.\u001b[0m\u001b[0munnamed_cols\u001b[0m\u001b[0;34m\u001b[0m\u001b[0;34m\u001b[0m\u001b[0m\n\u001b[1;32m   1919\u001b[0m \u001b[0;34m\u001b[0m\u001b[0m\n",
      "\u001b[0;32mpandas/_libs/parsers.pyx\u001b[0m in \u001b[0;36mpandas._libs.parsers.TextReader.__cinit__\u001b[0;34m()\u001b[0m\n",
      "\u001b[0;32mpandas/_libs/parsers.pyx\u001b[0m in \u001b[0;36mpandas._libs.parsers.TextReader._setup_parser_source\u001b[0;34m()\u001b[0m\n",
      "\u001b[0;31mFileNotFoundError\u001b[0m: [Errno 2] File b'dashboard_tha_file1_shared.csv' does not exist: b'dashboard_tha_file1_shared.csv'"
     ]
    }
   ],
   "source": [
    "df_f1 = pd.read_csv('dashboard_tha_file1_shared.csv')\n",
    "\n",
    "df_f2 = pd.read_csv('dashboard_tha_file2_shared.csv')"
   ]
  },
  {
   "cell_type": "markdown",
   "metadata": {},
   "source": [
    "## Metric 1: DAU_MAU ratio"
   ]
  },
  {
   "cell_type": "markdown",
   "metadata": {},
   "source": [
    "#### Description:"
   ]
  },
  {
   "cell_type": "raw",
   "metadata": {},
   "source": [
    "The DAU/MAU Ratio is the proportion of monthly active users that engage with the app in a single day. For example, a DAU/MAU ratio of 50% would mean that the users engage with the app, on average, 15 out of 30 days."
   ]
  },
  {
   "cell_type": "markdown",
   "metadata": {},
   "source": [
    "#### Python Code:"
   ]
  },
  {
   "cell_type": "code",
   "execution_count": 14,
   "metadata": {},
   "outputs": [],
   "source": [
    "def add_days_to_date(date, days):\n",
    "    \"\"\"Add days to a date and return the date.\n",
    "\n",
    "    Args:\n",
    "        date (string): Date string in YYYY-MM-DD format.\n",
    "        days (int): Number of days to add to date\n",
    "\n",
    "    Returns:\n",
    "        date (date): Date in YYYY-MM-DD with X days added.\n",
    "    \"\"\"\n",
    "\n",
    "    added_date = pd.to_datetime(date) + timedelta(days=days)\n",
    "    added_date = added_date.strftime(\"%Y-%m-%d\")\n",
    "\n",
    "    return added_date"
   ]
  },
  {
   "cell_type": "code",
   "execution_count": 15,
   "metadata": {},
   "outputs": [],
   "source": [
    "dic_date = {} \n",
    "\n",
    "for date_4 in df_f2.sort_values(by = ['date']).groupby(\"date\").count().reset_index()[\"date\"]:\n",
    "    if (add_days_to_date(date_4, 30) in df_f2['date'].values): #Checking whether or not the date 30 days later than the date we are currently looking at is available in the dataset.\n",
    "        d_dau = len(df_f2[df_f2[\"date\"] == date_4].groupby(\"user_id\").nunique())\n",
    "        d_mau = len(df_f2[(df_f2[\"date\"] >=  date_4) & (df_f2[\"date\"] <= add_days_to_date(date_4, 30))].sort_values(by = 'date').groupby(\"user_id\").nunique())\n",
    "        dau_mau = (d_dau / d_mau) * 100 #Calculation of the DAU_MAU ratio\n",
    "        dic_date[date_4] = round(dau_mau,1) #dictionary containing the dates and their respective dau_mau ratio"
   ]
  },
  {
   "cell_type": "code",
   "execution_count": 37,
   "metadata": {},
   "outputs": [],
   "source": [
    "dat = list(dic_date.keys())\n",
    "ratio = list(dic_date.values())\n",
    "\n",
    "df = pd.DataFrame(dict(                          #Creation of a Dataframe in order to use streamlit to make a line chart.\n",
    "    Day = dat,\n",
    "    Ratio = ratio\n",
    "))"
   ]
  },
  {
   "cell_type": "markdown",
   "metadata": {},
   "source": [
    "#### Streamlit Code:"
   ]
  },
  {
   "cell_type": "raw",
   "metadata": {},
   "source": [
    "#Creation of a line plot using streamlit.\n",
    "\n",
    "fig = px.line(\n",
    "        df, #Data Frame\n",
    "        x = \"Day\", \n",
    "        y = \"Ratio\",\n",
    "    )\n",
    "    \n",
    "fig.update_traces(line_color = \"red\")\n",
    "st.title('DAU_MAU ratio')\n",
    "st.plotly_chart(fig)"
   ]
  },
  {
   "cell_type": "markdown",
   "metadata": {},
   "source": [
    "## Metric 2: Retention Rate"
   ]
  },
  {
   "cell_type": "markdown",
   "metadata": {},
   "source": [
    "#### Description:"
   ]
  },
  {
   "cell_type": "raw",
   "metadata": {},
   "source": [
    "The Retention Rate is the percentage of users who stay with the app over a certain period of time. The most popular way to calculate retention is N Day retention, also known as classic retention. It measures the percent of new users who come back on a specific day. Here I decided to calculate the monthly (30-Day) and weekly (7-Day) retention rates."
   ]
  },
  {
   "cell_type": "markdown",
   "metadata": {},
   "source": [
    "#### Python Code:"
   ]
  },
  {
   "cell_type": "code",
   "execution_count": 19,
   "metadata": {},
   "outputs": [],
   "source": [
    "e_l_1 = []\n",
    "e_l_2 = []\n",
    "dic_seven = {}  #Dictionary containing the dates and their 7-day retention rate\n",
    "dic_thirty = {} #Dictionary containing the dates and their 30-day retention rate"
   ]
  },
  {
   "cell_type": "code",
   "execution_count": 51,
   "metadata": {},
   "outputs": [],
   "source": [
    "for date_3 in df_f2.sort_values(by = ['date']).groupby(\"date\").count().reset_index()[\"date\"]:\n",
    "    if (add_days_to_date(date_3, 7) in df_f2['date'].values):\n",
    "        e_l_1 = list(df_f2[df_f2[\"date\"] == date_3]['user_id']) #list of all the user_ids of the date we are currently looking at.\n",
    "        l_1 = list(df_f2[df_f2[\"date\"] == add_days_to_date(date_3, 7)]['user_id']) #Same but for the date 30 days later.\n",
    "        l_inter = list(set(e_l_1).intersection(l_1)) #Check the mutual user_ids \n",
    "        ret_rate = (len(l_inter) / len(e_l_1)) * 100 #Calculation of the retention rate.\n",
    "        dic_seven[date_3] = str(round(ret_rate,2)) + \"%\"\n",
    "        e_l_1 = []"
   ]
  },
  {
   "cell_type": "code",
   "execution_count": 21,
   "metadata": {},
   "outputs": [],
   "source": [
    "def seven_day_ret(d): #Function outputing the 7-Day retention rate for a specific day\n",
    "    return dic_seven[d]"
   ]
  },
  {
   "cell_type": "code",
   "execution_count": 22,
   "metadata": {},
   "outputs": [],
   "source": [
    "for date_1 in df_f2.sort_values(by = ['date']).groupby(\"date\").count().reset_index()[\"date\"]: #go through all the dates\n",
    "    if (add_days_to_date(date_1, 30) in df_f2['date'].values): #Checking whether or not the date 30 days later than the date we are currently looking at is available in the dataset.\n",
    "        e_l_2 = list(df_f2[df_f2[\"date\"] == date_1]['user_id']) #list of all the user_ids of the date we are currently looking at.\n",
    "        l_2 = list(df_f2[df_f2[\"date\"] == add_days_to_date(date_1, 30)]['user_id']) #same but for the date 30 days later.\n",
    "        l_inter_1 = list(set(e_l_2).intersection(l_2)) #Find the common elements between the two lists\n",
    "        ret_rate_1 = (len(l_inter_1) / len(e_l_2)) * 100 #retention rate = ratio between the common users between the two lists above and the original number of users in the day we are currently looking at\n",
    "        dic_thirty[date_1] = str(round(ret_rate_1,2)) + \"%\" #add to the dictionary the calculated retention rate\n",
    "        e_l_2 = []\n",
    "        num_30 = 0"
   ]
  },
  {
   "cell_type": "code",
   "execution_count": 23,
   "metadata": {},
   "outputs": [],
   "source": [
    "def thirty_day_ret(d): #Function outputing the 30-Day retention rate of the day we are interested in\n",
    "    return dic_thirty[d] "
   ]
  },
  {
   "cell_type": "markdown",
   "metadata": {},
   "source": [
    "#### Streamlit Code:"
   ]
  },
  {
   "cell_type": "raw",
   "metadata": {},
   "source": [
    "day_period = st.date_input(\"What is the first day of the period you want to use?\",\n",
    "                             datetime.date(2020,6,2))"
   ]
  },
  {
   "cell_type": "raw",
   "metadata": {},
   "source": [
    "seven_d_retention_rate = seven_day_ret(str(day_period))\n",
    "\n",
    "st.metric(\"7-Day Retention Rate\", seven_d_retention_rate)"
   ]
  },
  {
   "cell_type": "raw",
   "metadata": {},
   "source": [
    "thirty_d_retention_rate = thirty_day_ret(str(day_period))\n",
    "\n",
    "st.metric(\"30-Day Retention Rate\", thirty_d_retention_rate)"
   ]
  },
  {
   "cell_type": "markdown",
   "metadata": {},
   "source": [
    "## Metric 3: Daily Active Users (DAU)"
   ]
  },
  {
   "cell_type": "markdown",
   "metadata": {},
   "source": [
    "#### Description:"
   ]
  },
  {
   "cell_type": "raw",
   "metadata": {},
   "source": [
    "Daily Active Users, or DAU, is the measurement of the number of users who are active on the app each day. "
   ]
  },
  {
   "cell_type": "markdown",
   "metadata": {},
   "source": [
    "#### Python Code:"
   ]
  },
  {
   "cell_type": "code",
   "execution_count": 24,
   "metadata": {},
   "outputs": [],
   "source": [
    "def dau(date): #Function Calculating the Daily Active Users.\n",
    "    dau = df_f2[df_f2['date'] == date]['user_id'].nunique()\n",
    "    return dau "
   ]
  },
  {
   "cell_type": "code",
   "execution_count": 25,
   "metadata": {},
   "outputs": [],
   "source": [
    "dic_dau = {} #Dictionary containing a Date and its DAU.\n",
    "\n",
    "for d in df_f2.sort_values(by = ['date']).groupby(\"date\").count().reset_index()[\"date\"]:\n",
    "    dic_dau[d] = dau(d)\n",
    "\n",
    "\n",
    "date_dau = list(dic_dau.keys())\n",
    "nb_dau = list(dic_dau.values())"
   ]
  },
  {
   "cell_type": "code",
   "execution_count": 26,
   "metadata": {},
   "outputs": [],
   "source": [
    "df_mau = pd.DataFrame(dict( #Creation of a Dataframe for using Streamlit.\n",
    "    Day = date_dau,\n",
    "    DAU = nb_dau\n",
    "))"
   ]
  },
  {
   "cell_type": "markdown",
   "metadata": {},
   "source": [
    "#### Streamlit Code:"
   ]
  },
  {
   "cell_type": "raw",
   "metadata": {},
   "source": [
    "#Creation of a line plot.\n",
    "\n",
    "fig = px.line(\n",
    "        df_mau, #Data Frame\n",
    "        x = \"Day\", #Columns from the data frame\n",
    "        y = \"DAU\",\n",
    "        #title = \"DAU\"\n",
    "    )\n",
    "fig.update_traces(line_color = \"blue\")\n",
    "\n",
    "st.title('Daily Active Users (DAU)')\n",
    "st.plotly_chart(fig)"
   ]
  },
  {
   "cell_type": "markdown",
   "metadata": {},
   "source": [
    "## Metric 4: Weekly Active Users (WAU)"
   ]
  },
  {
   "cell_type": "markdown",
   "metadata": {},
   "source": [
    "#### Description:"
   ]
  },
  {
   "cell_type": "raw",
   "metadata": {},
   "source": [
    "Weekly Active Users refers to the number of unique users of the app that have actively engaged with it at least once in a week."
   ]
  },
  {
   "cell_type": "markdown",
   "metadata": {},
   "source": [
    "#### Python Code:"
   ]
  },
  {
   "cell_type": "code",
   "execution_count": null,
   "metadata": {},
   "outputs": [],
   "source": [
    "df_f2['week'] = pd.DatetimeIndex(df_f2['date']).week #Converting our original dates to weeks and creating a new column in df_f2 containg each date's corresponding week.\n",
    "for w in range(len(df_f2['week'])):\n",
    "    df_f2['week'][w] = df_f2['week'][w] - 22 #Substracting 22 to show the corresponding week since the creation \n",
    "                                                #of the app and not the corresponding week of the date. Week 1 is \n",
    "                                                #the first week of the app's creation.\n",
    "\n",
    "df_f2.sort_values(by = 'date')\n",
    "m_w = df_f2.groupby('week').count().reset_index().rename(columns={'week': 'week', 'date': '# of users'})  #Count the number of weekly users.\n",
    "m_w = m_w[['week','# of users']]\n"
   ]
  },
  {
   "cell_type": "markdown",
   "metadata": {},
   "source": [
    "#### Streamlit Code:"
   ]
  },
  {
   "cell_type": "raw",
   "metadata": {},
   "source": [
    "#Creating a line plot in streamlit.\n",
    "\n",
    "fig = px.line(\n",
    "        m_w, #Data Frame\n",
    "        x = \"week\", #Columns from the data frame\n",
    "        y = \"# of users\",\n",
    "    )\n",
    "fig.update_traces(line_color = \"green\")\n",
    "st.title('Weekly active users (WAU)')\n",
    "st.plotly_chart(fig)"
   ]
  },
  {
   "cell_type": "markdown",
   "metadata": {},
   "source": [
    "## Metric 5: Monthly Active Users (MAU)"
   ]
  },
  {
   "cell_type": "markdown",
   "metadata": {},
   "source": [
    "#### Description:"
   ]
  },
  {
   "cell_type": "raw",
   "metadata": {},
   "source": [
    "Monthly active users (MAU) refers to the number of unique users who visit the app per month."
   ]
  },
  {
   "cell_type": "markdown",
   "metadata": {},
   "source": [
    "#### Python Code:"
   ]
  },
  {
   "cell_type": "code",
   "execution_count": null,
   "metadata": {},
   "outputs": [],
   "source": [
    "df_f2['month'] = pd.DatetimeIndex(df_f2['date']).month #Converting our original dates to months and creating a new column in df_f2 containg each date's corresponding month.\n",
    "df_month = df_f2.groupby('month').count().reset_index().rename(columns={'is_new_user': '# of visits', 'date': '# of users'})\n",
    "df_month = df_month[['month','# of users']]\n",
    "df_month[\"month\"] = ['June','July','August','September'] #df_month is a dataframe with the months available in our Dataframes and their respective # of users."
   ]
  },
  {
   "cell_type": "markdown",
   "metadata": {},
   "source": [
    "#### Streamlit Code:"
   ]
  },
  {
   "cell_type": "raw",
   "metadata": {},
   "source": [
    "#Creating a line plot in streamlit.\n",
    "\n",
    "fig = px.line(\n",
    "        df_month, #Data Frame\n",
    "        x = \"month\", #Columns from the data frame\n",
    "        y = \"# of users\",\n",
    "    )\n",
    "fig.update_traces(line_color = \"purple\")\n",
    "st.title('Monthly active users (MAU)')\n",
    "st.plotly_chart(fig)"
   ]
  },
  {
   "cell_type": "markdown",
   "metadata": {},
   "source": [
    "## Metric 6: Users' usage frequency for 30 days"
   ]
  },
  {
   "cell_type": "markdown",
   "metadata": {},
   "source": [
    "#### Description:"
   ]
  },
  {
   "cell_type": "raw",
   "metadata": {},
   "source": [
    "This metric refers to the number of times users of a specific cohort (i.e. who started using the app the same day) used the app for a duration of 30 days. The results are displayed on a pie chart."
   ]
  },
  {
   "cell_type": "markdown",
   "metadata": {},
   "source": [
    "#### Python Code:"
   ]
  },
  {
   "cell_type": "code",
   "execution_count": 31,
   "metadata": {},
   "outputs": [],
   "source": [
    "df_new_user = df_f2[df_f2['is_new_user'] == True]"
   ]
  },
  {
   "cell_type": "code",
   "execution_count": null,
   "metadata": {},
   "outputs": [],
   "source": [
    "def freq(date_chosen): #Function calculating the  the number of times users of a specific cohort used the app for a duration of 30 days. \n",
    "    dic_freq = {} \n",
    "    list_perc = []\n",
    "    if (add_days_to_date(date_chosen, 30) in df_f2['date'].values): #Checking whether or not the date 30 days later than the date we are currently looking at is available in the dataset.\n",
    "        list_uid = list(df_new_user[df_new_user[\"date\"] == date_chosen]['user_id'].unique())\n",
    "        for l in list_uid:\n",
    "            dic_freq[l] = 0 \n",
    "\n",
    "        df_period = df_f2[(df_f2[\"date\"] >= date_chosen) & (df_f2[\"date\"] <= add_days_to_date(date_chosen, 30))]['user_id'] #new dataframe which contains a period of thirty days.\n",
    "        for u in df_period:\n",
    "            if u in dic_freq: #Check how many times the users in the cohort are present in the dataframe which corresponds to its usage frequency.\n",
    "                dic_freq[u] += 1\n",
    "\n",
    "        data_items = list(dic_freq.keys()) #Converting the dictionary's keys to a column in the new dataframe below.\n",
    "        data_value = list(dic_freq.values()) #Converting the dictionary's values to another column in the new dataframe below.\n",
    "\n",
    "        df_freq = pd.DataFrame({\n",
    "            '#_users': data_items,\n",
    "            'frequency': data_value,\n",
    "        })\n",
    "\n",
    "        df_freq = df_freq.groupby(\"frequency\").count().reset_index() #this steps calculates the total frequency for the cohort we are looking at.\n",
    "        for x in list(df_freq[\"#_users\"]):\n",
    "            list_perc.append(round((x / sum(df_freq[\"#_users\"])) * 100, 3)) #Transform the frequency into a percentage.\n",
    "\n",
    "        df_freq[\"% of users\"] = list_perc\n",
    "        return df_freq #returns a dataframe with different frequencies, the number of users for those frequencies as well as the percentage each frequency represents.\n",
    "\n"
   ]
  },
  {
   "cell_type": "markdown",
   "metadata": {},
   "source": [
    "#### Streamlit Code:"
   ]
  },
  {
   "cell_type": "raw",
   "metadata": {},
   "source": [
    "day_period_2 = st.date_input(\"What is the first day of the period you want to use?\", datetime.date(2020, 6, 3))"
   ]
  },
  {
   "cell_type": "raw",
   "metadata": {},
   "source": [
    "#The results are displayed on a pie chart on streamlit.\n",
    "\n",
    "\n",
    "df_freq = freq(str(day_period_2))\n",
    "input_col, pie_col = st.columns(2)\n",
    "\n",
    "top_n = input_col.text_input(\"How many of the top locations would you like to see?\",5)\n",
    "top_n = int(top_n)\n",
    "\n",
    "df_freq = df_freq.head(top_n)\n",
    "\n",
    "fig = px.pie(df_freq, values='% of users', names='frequency')\n",
    "\n",
    "pie_col.write(fig)"
   ]
  },
  {
   "cell_type": "markdown",
   "metadata": {},
   "source": [
    "## Metric 6*: Average number of visits for 30 days."
   ]
  },
  {
   "cell_type": "markdown",
   "metadata": {},
   "source": [
    "#### Description:"
   ]
  },
  {
   "cell_type": "raw",
   "metadata": {},
   "source": [
    "This metric refers to the average number of times users of a specific cohort (i.e. that started using the app the same day) used the app for a duration of 30 days."
   ]
  },
  {
   "cell_type": "markdown",
   "metadata": {},
   "source": [
    "#### Python Code:"
   ]
  },
  {
   "cell_type": "code",
   "execution_count": null,
   "metadata": {},
   "outputs": [],
   "source": [
    "i = 0\n",
    "\n",
    "for x in range(0, len(df_freq)):\n",
    "    i += df_freq[\"frequency\"][x] * df_freq[\"#_users\"][x] \n",
    "\n",
    "avg_nb_visits = round(i / sum(df_freq[\"#_users\"]), 2) #calculates the average number of times users in a specific cohort visited the app."
   ]
  },
  {
   "cell_type": "markdown",
   "metadata": {},
   "source": [
    "#### Streamlit Code:"
   ]
  },
  {
   "cell_type": "raw",
   "metadata": {},
   "source": [
    "st.metric(label = \"Average number of visits for 30 days\", value = str(avg_nb_visits))"
   ]
  },
  {
   "cell_type": "markdown",
   "metadata": {},
   "source": [
    "## Metric 7: Features usage"
   ]
  },
  {
   "cell_type": "markdown",
   "metadata": {},
   "source": [
    "#### Description:"
   ]
  },
  {
   "cell_type": "raw",
   "metadata": {},
   "source": [
    "This metric refers to the number of times each feature has been used throughout the entire period in the dataframes."
   ]
  },
  {
   "cell_type": "markdown",
   "metadata": {},
   "source": [
    "#### Python Code:"
   ]
  },
  {
   "cell_type": "code",
   "execution_count": 45,
   "metadata": {},
   "outputs": [],
   "source": [
    "m_f = df_f1.groupby(\"feature_used\").count().reset_index().rename(columns={'timestamp': '# of uses', 'user_id': '# of users'})\n",
    "m_f = m_f[['feature_used','# of users']]\n",
    "m_f = m_f.sort_values(by = '# of users', ascending = False)\n",
    "m_f_test = m_f.groupby('feature_used')['# of users'].sum() #Sum the total number of users who used the features."
   ]
  },
  {
   "cell_type": "markdown",
   "metadata": {},
   "source": [
    "#### Streamlit Code:"
   ]
  },
  {
   "cell_type": "raw",
   "metadata": {},
   "source": [
    "#Creating a bar chart with streamlit.\n",
    "\n",
    "st.title('Features usage')\n",
    "st.bar_chart(m_f_test.sort_values())"
   ]
  },
  {
   "cell_type": "markdown",
   "metadata": {},
   "source": [
    "## Metric 8: Total number of users using the app per hour of the day"
   ]
  },
  {
   "cell_type": "markdown",
   "metadata": {},
   "source": [
    "#### Description:"
   ]
  },
  {
   "cell_type": "raw",
   "metadata": {},
   "source": [
    "This metric refers to the total number of users who checked the app during each hour of the day throughout the whole period in the dataframes. Furthermore, I converted AM/PM to 24-Hour time."
   ]
  },
  {
   "cell_type": "markdown",
   "metadata": {},
   "source": [
    "#### Python Code:"
   ]
  },
  {
   "cell_type": "code",
   "execution_count": 35,
   "metadata": {},
   "outputs": [],
   "source": [
    "df_f1['hour'] = pd.DatetimeIndex(df_f1['timestamp']).hour #Taking only the hour during which the users checked the app.\n",
    "m_h = df_f1.groupby('hour').count().reset_index().rename(columns={'hour': 'hour', 'timestamp': '# of users'})\n",
    "m_h = m_h[['hour','# of users']]\n",
    "m_h = m_h.sort_values(by = '# of users', ascending = False)\n",
    "m_h_test = m_h.groupby('hour')['# of users'].sum().sort_values() #Sum the number of users who used the app for each hour over the entire duration."
   ]
  },
  {
   "cell_type": "markdown",
   "metadata": {},
   "source": [
    "#### Streamlit Code:"
   ]
  },
  {
   "cell_type": "raw",
   "metadata": {},
   "source": [
    "#Creating a bar chart with streamlit.\n",
    "\n",
    "st.title('Total number of users using the app per hour of the day')\n",
    "st.bar_chart(m_h_test)"
   ]
  },
  {
   "cell_type": "markdown",
   "metadata": {},
   "source": [
    "## Metric 9: Total number of users using the app per day of the week"
   ]
  },
  {
   "cell_type": "markdown",
   "metadata": {},
   "source": [
    "#### Description:"
   ]
  },
  {
   "cell_type": "raw",
   "metadata": {},
   "source": [
    "This metric refers to the total number of users who checked the app during each day of the week throughout the entire period in the dataframes."
   ]
  },
  {
   "cell_type": "markdown",
   "metadata": {},
   "source": [
    "#### Python Code:"
   ]
  },
  {
   "cell_type": "code",
   "execution_count": 36,
   "metadata": {},
   "outputs": [],
   "source": [
    "df_f2['day'] = pd.to_datetime(df_f2['date']).dt.day_name() #Taking only the name of the day (ex: Monday, tuesday, etc...) during which the users checked the app.\n",
    "df_f2.head()\n",
    "m_d = df_f2.groupby(\"day\").count().reset_index().rename(columns={'date': '# of users'})\n",
    "m_d = m_d[['day','# of users']]\n",
    "m_d.sort_values(by = 'day')\n",
    "m_d[\"day\"] = ['Monday', 'Tuesday', 'Wednesday', 'Thursday', 'Friday', 'Saturday', 'Sunday']\n",
    "m_d[\"# of users\"] = [4076,4132,4001,3932,3948,4009,4636]\n",
    "m_d_test = m_d.groupby('day')['# of users'].sum()  #Sum the number of users who used the app for each day of the week over the entire duration."
   ]
  },
  {
   "cell_type": "markdown",
   "metadata": {},
   "source": [
    "#### Streamlit Code:"
   ]
  },
  {
   "cell_type": "raw",
   "metadata": {},
   "source": [
    "#Creating a bar chart with streamlit.\n",
    "\n",
    "st.title('Total number of users using the app per day of the week')\n",
    "st.bar_chart(m_d_test)"
   ]
  },
  {
   "cell_type": "code",
   "execution_count": null,
   "metadata": {},
   "outputs": [],
   "source": []
  }
 ],
 "metadata": {
  "kernelspec": {
   "display_name": "Python 3",
   "language": "python",
   "name": "python3"
  },
  "language_info": {
   "codemirror_mode": {
    "name": "ipython",
    "version": 3
   },
   "file_extension": ".py",
   "mimetype": "text/x-python",
   "name": "python",
   "nbconvert_exporter": "python",
   "pygments_lexer": "ipython3",
   "version": "3.7.4"
  }
 },
 "nbformat": 4,
 "nbformat_minor": 4
}
